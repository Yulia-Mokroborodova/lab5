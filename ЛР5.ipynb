{
  "nbformat": 4,
  "nbformat_minor": 0,
  "metadata": {
    "colab": {
      "name": "ЛР5.ipynb",
      "provenance": []
    },
    "kernelspec": {
      "name": "python3",
      "display_name": "Python 3"
    },
    "language_info": {
      "name": "python"
    }
  },
  "cells": [
    {
      "cell_type": "markdown",
      "source": [
        "Мокробородова Юлия\n",
        "\n",
        "РИ-481223\n",
        "\n",
        "Задание 1"
      ],
      "metadata": {
        "id": "daayB3pFLEAU"
      }
    },
    {
      "cell_type": "code",
      "execution_count": 32,
      "metadata": {
        "id": "d2vF8_8eLCOW"
      },
      "outputs": [],
      "source": [
        "import numpy as np\n",
        "import pandas as pd\n",
        "\n",
        "def ent(data: np.array):\n",
        "    entropy = -np.sum(data * np.log2(data))  \n",
        "    return entropy"
      ]
    },
    {
      "cell_type": "code",
      "source": [
        "data1 = np.array((0.2, 0.2, 0.2, 0.2, 0.2))\n",
        "data2 = np.array((0.5, 0.5))\n",
        "data3 = np.array((0.9, 0.05, 0.05, 0))\n",
        "data4 = np.array((0, 0, 0, 0, 1, 0))  "
      ],
      "metadata": {
        "id": "bjQCWtBrModd"
      },
      "execution_count": 33,
      "outputs": []
    },
    {
      "cell_type": "code",
      "source": [
        "print (ent(data1))\n",
        "print (ent(data2))\n",
        "print (ent(data3))\n",
        "print (ent(data4))"
      ],
      "metadata": {
        "colab": {
          "base_uri": "https://localhost:8080/"
        },
        "id": "_ikoRgkLMA5u",
        "outputId": "f5503b3c-0d24-4384-9a38-15093405ac03"
      },
      "execution_count": 34,
      "outputs": [
        {
          "output_type": "stream",
          "name": "stdout",
          "text": [
            "2.321928094887362\n",
            "1.0\n",
            "0.5689955935892812\n",
            "-0.0\n"
          ]
        },
        {
          "output_type": "stream",
          "name": "stderr",
          "text": [
            "/usr/local/lib/python3.7/dist-packages/ipykernel_launcher.py:6: RuntimeWarning: divide by zero encountered in log2\n",
            "  \n",
            "/usr/local/lib/python3.7/dist-packages/ipykernel_launcher.py:6: RuntimeWarning: invalid value encountered in multiply\n",
            "  \n"
          ]
        }
      ]
    },
    {
      "cell_type": "markdown",
      "source": [
        "Задание 3"
      ],
      "metadata": {
        "id": "EV9gfdt6ObF1"
      }
    },
    {
      "cell_type": "code",
      "source": [
        "import matplotlib.pyplot as plt\n",
        "import numpy as np\n",
        "\n",
        "from sklearn.datasets import make_blobs, make_moons\n",
        "\n",
        "x, y = make_moons(n_samples=100, noise=0.1)\n",
        "plt.scatter(x[:,0], x[:,1], c = y);"
      ],
      "metadata": {
        "colab": {
          "base_uri": "https://localhost:8080/",
          "height": 268
        },
        "id": "FVrq-TtYOc28",
        "outputId": "2f681c52-ce54-40df-918c-51af2c64d9f8"
      },
      "execution_count": 109,
      "outputs": [
        {
          "output_type": "display_data",
          "data": {
            "image/png": "[encoded data removed]",
            "text/plain": [
              "<Figure size 432x288 with 1 Axes>"
            ]
          },
          "metadata": {
            "needs_background": "light"
          }
        }
      ]
    },
    {
      "cell_type": "code",
      "source": [
        "def class_border(clf, x, y, h=.03, cmap=plt.cm.coolwarm):\n",
        "    x_min, x_max = np.min(x[:,0]), np.max(x[:,0])\n",
        "    y_min, y_max = np.min(x[:,1]), np.max(x[:,1])\n",
        "\n",
        "    x1, y1 = np.meshgrid(np.arange(x_min, x_max, h),\n",
        "                       np.arange(y_min, y_max, h))\n",
        "\n",
        "    Z = clf.predict(np.vstack((x1.ravel(), y1.ravel())).transpose())\n",
        "    Z = Z.reshape(x1.shape)\n",
        "\n",
        "    plt.figure(figsize=(8,8))\n",
        "    plt.contourf(x1, y1, Z, cmap=cmap, alpha=.3)\n",
        "    plt.scatter(x[:,0], x[:,1], s=100, c = y, cmap=cmap)\n",
        "    plt.title('k = ', clf.max_depth)\n",
        "    plt.show()"
      ],
      "metadata": {
        "id": "uJsWHbjbP2aR"
      },
      "execution_count": 114,
      "outputs": []
    },
    {
      "cell_type": "code",
      "source": [
        ""
      ],
      "metadata": {
        "id": "yOo11-NyYkDp"
      },
      "execution_count": 114,
      "outputs": []
    },
    {
      "cell_type": "code",
      "source": [
        "X_train = x[:70]\n",
        "y_train = y[:70]\n",
        "X_test = x[70:]\n",
        "y_test = y[70:]"
      ],
      "metadata": {
        "id": "nOmzGVOrQWxd"
      },
      "execution_count": 115,
      "outputs": []
    },
    {
      "cell_type": "code",
      "source": [
        "from sklearn.tree import DecisionTreeClassifier\n",
        "\n",
        "depths = [1,2,3]\n",
        "\n",
        "for depth in depths:\n",
        "    regression = DecisionTreeClassifier(max_depth=depth)\n",
        "    regression.fit(X_train, y_train)\n",
        "    class_border(regression, x, y, h=.05)"
      ],
      "metadata": {
        "id": "pd58N1g3QX18"
      },
      "execution_count": 119,
      "outputs": []
    },
    {
      "cell_type": "code",
      "source": [
        "y_pred=regression.predict(X_test)\n",
        "\n",
        "df=pd.DataFrame({'Actual':y_test, 'Predicted':y_pred})\n",
        "print(df)"
      ],
      "metadata": {
        "colab": {
          "base_uri": "https://localhost:8080/"
        },
        "id": "Hg19IO2gVE8w",
        "outputId": "57226e36-fca6-44e5-c4b7-41b04fa87c0a"
      },
      "execution_count": 74,
      "outputs": [
        {
          "output_type": "stream",
          "name": "stdout",
          "text": [
            "    Actual  Predicted\n",
            "0        1          1\n",
            "1        1          1\n",
            "2        0          0\n",
            "3        0          0\n",
            "4        0          1\n",
            "5        1          1\n",
            "6        1          1\n",
            "7        1          1\n",
            "8        0          0\n",
            "9        1          1\n",
            "10       0          0\n",
            "11       0          0\n",
            "12       0          0\n",
            "13       0          0\n",
            "14       0          0\n",
            "15       0          0\n",
            "16       1          1\n",
            "17       1          1\n",
            "18       0          0\n",
            "19       1          0\n",
            "20       1          1\n",
            "21       1          1\n",
            "22       0          1\n",
            "23       1          1\n",
            "24       0          0\n",
            "25       0          0\n",
            "26       0          0\n",
            "27       1          1\n",
            "28       0          0\n",
            "29       1          1\n"
          ]
        }
      ]
    }
  ]
}